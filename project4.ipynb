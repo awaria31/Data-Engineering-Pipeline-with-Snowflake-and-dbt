{
 "cells": [
  {
   "cell_type": "code",
   "execution_count": 1,
   "id": "371a66ee-6c87-4c93-95a7-9c152763c35c",
   "metadata": {},
   "outputs": [
    {
     "name": "stdout",
     "output_type": "stream",
     "text": [
      "Requirement already satisfied: snowflake-connector-python in ./ENTER/lib/python3.12/site-packages (3.14.0)\n",
      "Requirement already satisfied: asn1crypto<2.0.0,>0.24.0 in ./ENTER/lib/python3.12/site-packages (from snowflake-connector-python) (1.5.1)\n",
      "Requirement already satisfied: cffi<2.0.0,>=1.9 in ./ENTER/lib/python3.12/site-packages (from snowflake-connector-python) (1.17.1)\n",
      "Requirement already satisfied: cryptography>=3.1.0 in ./ENTER/lib/python3.12/site-packages (from snowflake-connector-python) (43.0.3)\n",
      "Requirement already satisfied: pyOpenSSL<26.0.0,>=22.0.0 in ./ENTER/lib/python3.12/site-packages (from snowflake-connector-python) (25.0.0)\n",
      "Requirement already satisfied: pyjwt<3.0.0 in ./ENTER/lib/python3.12/site-packages (from snowflake-connector-python) (2.10.1)\n",
      "Requirement already satisfied: pytz in ./ENTER/lib/python3.12/site-packages (from snowflake-connector-python) (2025.2)\n",
      "Requirement already satisfied: requests<3.0.0 in ./ENTER/lib/python3.12/site-packages (from snowflake-connector-python) (2.32.3)\n",
      "Requirement already satisfied: packaging in ./ENTER/lib/python3.12/site-packages (from snowflake-connector-python) (24.2)\n",
      "Requirement already satisfied: charset_normalizer<4,>=2 in ./ENTER/lib/python3.12/site-packages (from snowflake-connector-python) (3.3.2)\n",
      "Requirement already satisfied: idna<4,>=2.5 in ./ENTER/lib/python3.12/site-packages (from snowflake-connector-python) (3.7)\n",
      "Requirement already satisfied: certifi>=2017.4.17 in ./ENTER/lib/python3.12/site-packages (from snowflake-connector-python) (2025.1.31)\n",
      "Requirement already satisfied: typing_extensions<5,>=4.3 in ./ENTER/lib/python3.12/site-packages (from snowflake-connector-python) (4.12.2)\n",
      "Requirement already satisfied: filelock<4,>=3.5 in ./ENTER/lib/python3.12/site-packages (from snowflake-connector-python) (3.18.0)\n",
      "Requirement already satisfied: sortedcontainers>=2.4.0 in ./ENTER/lib/python3.12/site-packages (from snowflake-connector-python) (2.4.0)\n",
      "Requirement already satisfied: platformdirs<5.0.0,>=2.6.0 in ./ENTER/lib/python3.12/site-packages (from snowflake-connector-python) (3.10.0)\n",
      "Requirement already satisfied: tomlkit in ./ENTER/lib/python3.12/site-packages (from snowflake-connector-python) (0.13.2)\n",
      "Requirement already satisfied: pycparser in ./ENTER/lib/python3.12/site-packages (from cffi<2.0.0,>=1.9->snowflake-connector-python) (2.21)\n",
      "Requirement already satisfied: urllib3<3,>=1.21.1 in ./ENTER/lib/python3.12/site-packages (from requests<3.0.0->snowflake-connector-python) (2.3.0)\n"
     ]
    }
   ],
   "source": [
    "!pip install snowflake-connector-python"
   ]
  },
  {
   "cell_type": "code",
   "execution_count": 2,
   "id": "c9a0d026-e409-4079-a941-0a404f37e3a8",
   "metadata": {},
   "outputs": [],
   "source": [
    "import snowflake.connector\n",
    "import pandas as pd\n",
    "import matplotlib.pyplot as plt"
   ]
  },
  {
   "cell_type": "markdown",
   "id": "e448fa81-3e27-4071-b24f-24e23fc81b5d",
   "metadata": {},
   "source": [
    "## Install DBT using Miniconda \n",
    "\n",
    "Installed Miniconda and created a Conda environment named `p4-env`. Installed `dbt`, `snowflake-connector-python`, and other required packages. Verified DBT installation using `!which dbt`."
   ]
  },
  {
   "cell_type": "code",
   "execution_count": 3,
   "id": "f8ae08fd-4213-4864-883c-f537882b0833",
   "metadata": {},
   "outputs": [],
   "source": [
    "!which dbt"
   ]
  },
  {
   "cell_type": "markdown",
   "id": "0787e1c9-134e-41a5-9365-18b53ebec5e9",
   "metadata": {},
   "source": [
    "### dbt Transformation of Survey Table"
   ]
  },
  {
   "cell_type": "code",
   "execution_count": 4,
   "id": "73c9113e-61cc-4846-8d10-15bc1bd02f1a",
   "metadata": {},
   "outputs": [
    {
     "name": "stdout",
     "output_type": "stream",
     "text": [
      "p4_data_pipeline:\n",
      "  target: dev\n",
      "  outputs:\n",
      "    dev:\n",
      "      type: snowflake\n",
      "      account: PXYRLSQ-SZ74217\n",
      "      user: AWARIA31\n",
      "      role: P4_ROLE\n",
      "      database: SURVEY_DATABASE\n",
      "      warehouse: COMPUTE_WH\n",
      "      schema: SURVEY_SCHEMA\n",
      "\n",
      "    stock_db:\n",
      "      type: snowflake\n",
      "      account: PXYRLSQ-SZ74217\n",
      "      user: AWARIA31\n",
      "      role: P4_ROLE\n",
      "      database: STOCK_TRACKING_US_STOCK_PRICES_BY_DAY\n",
      "      warehouse: COMPUTE_WH\n",
      "      schema: STOCK\n"
     ]
    }
   ],
   "source": [
    "!grep -v password ~/.dbt/profiles.yml"
   ]
  },
  {
   "cell_type": "code",
   "execution_count": 5,
   "id": "e7054ef8-0fd9-4066-85f7-32d9def02fe2",
   "metadata": {},
   "outputs": [
    {
     "name": "stdout",
     "output_type": "stream",
     "text": [
      "version: 2\n",
      "\n",
      "models:\n",
      "  - name: survey_transformed\n",
      "    description: \"Transformed survey table with snake_case column names\"\n",
      "    columns:\n",
      "      - name: email_address\n",
      "        description: \"Respondent's email\"\n",
      "      - name: age\n",
      "        description: \"Respondent's age\"\n",
      "      - name: primary_major\n",
      "        description: \"Primary major\"\n",
      "      - name: secondary_majors\n",
      "        description: \"Additional majors\"\n",
      "      - name: zip_code\n",
      "        description: \"Zip code while attending classes\"\n",
      "      - name: favorite_pizza_topping\n",
      "        description: \"Favorite pizza topping\"\n",
      "      - name: is_runner\n",
      "        description: \"Whether the student is a runner\"\n",
      "      - name: sleep_preference\n",
      "        description: \"Early bird or night owl\"\n",
      "      - name: is_procrastinator\n",
      "        description: \"Do they procrastinate?\"\n",
      "      - name: extra_hour_activity\n",
      "        description: \"How they'd spend an extra hour\"\n",
      "      - name: favorite_hobby\n",
      "        description: \"Their favorite hobby\"\n",
      "      - name: current_standing\n",
      "        description: \"Student's standing\"\n"
     ]
    }
   ],
   "source": [
    "!cat ~/p4_data_pipeline/models/survey_schema.yml\n"
   ]
  },
  {
   "cell_type": "code",
   "execution_count": 6,
   "id": "5ae778fd-1c37-4f28-b9a4-7a9863dbdbd7",
   "metadata": {},
   "outputs": [
    {
     "name": "stdout",
     "output_type": "stream",
     "text": [
      "{{ config(materialized='view') }}\n",
      "\n",
      "SELECT\n",
      "    \"TIMESTAMP\",\n",
      "    \"EMAIL_ADDRESS\" AS email_address,\n",
      "    \"WHAT_IS_YOUR_AGE_\" AS age,\n",
      "    \"WHICH_BEST_DESCRIBES_YOUR_PRIMARY_MAJOR_OR_FIELD_OF_STUDY_IF_YOU_HAVE_MORE_THAN_ONE_MAJOR_PLEASE_SPECIFY_OTHER_MAJORS_AS_PART_OF_THE_NEXT_QUESTION_\" AS primary_major,\n",
      "    \"IF_YOU_HAVE_SECONDARY_MAJORS_PLEASE_LIST_THEM_HERE_SEPARATED_BY_A_COMMA_\" AS secondary_majors,\n",
      "    \"WHAT_FACTOR_INFLUENCES_YOUR_COURSE_SELECTION_THE_MOST_\" AS course_selection_factor,\n",
      "    \"WHAT_IS_THE_5_DIGIT_ZIP_CODE_OF_YOUR_RESIDENCE_WHILE_ATTENDING_CLASSES_IF_YOU_ARE_NOT_SURE_CHECK_HERE_HTTPS_TOOLS_USPS_COM_ZIP_CODE_LOOKUP_HTM_BYADDRESS_\" AS zip_code,\n",
      "    \"WHAT_IS_YOUR_FAVORITE_PIZZA_TOPPING_\" AS favorite_pizza_topping,\n",
      "    \"HAVE_YOU_EVER_IN_YOUR_LIFE_HAD_A_PET_\" AS had_pet,\n",
      "    \"ARE_YOU_A_RUNNER_CONSIDER_BOTH_RUNNING_ON_TREADMILL_AND_OUTDOORS_\" AS is_runner,\n",
      "    \"WOULD_YOU_DESCRIBE_YOURSELF_AS_AN_EARLY_BIRD_OR_A_NIGHT_OWL_\" AS sleep_preference,\n",
      "    \"DO_YOU_CONSIDER_YOURSELF_A_PROCRASTINATOR_\" AS is_procrastinator,\n",
      "    \"IF_YOU_HAD_AN_EXTRA_HOUR_IN_YOUR_DAY_HOW_WOULD_YOU_SPEND_IT_\" AS extra_hour_activity,\n",
      "    \"WHAT_IS_YOUR_FAVORITE_HOBBY_\" AS favorite_hobby,\n",
      "    \"WHAT_IS_YOUR_CURRENT_STANDING\" AS current_standing\n",
      "FROM {{ source('survey_schema', 'survey') }}\n"
     ]
    }
   ],
   "source": [
    "!cat ~/p4_data_pipeline/models/staging/transform_survey.sql"
   ]
  },
  {
   "cell_type": "markdown",
   "id": "e15436b6-30f6-4a0c-8d08-e13ad3719531",
   "metadata": {},
   "source": [
    "### What is the most popular pizza topping among students?"
   ]
  },
  {
   "cell_type": "code",
   "execution_count": 7,
   "id": "54d37ba0-7955-400d-9eac-8cc449fc81da",
   "metadata": {},
   "outputs": [
    {
     "name": "stderr",
     "output_type": "stream",
     "text": [
      "/tmp/ipykernel_3153306/272731990.py:23: UserWarning: pandas only supports SQLAlchemy connectable (engine/connection) or database string URI or sqlite3 DBAPI2 connection. Other DBAPI2 objects are not tested. Please consider using SQLAlchemy.\n",
      "  df = pd.read_sql(query, conn)\n"
     ]
    },
    {
     "name": "stdout",
     "output_type": "stream",
     "text": [
      "  WHAT_IS_YOUR_FAVORITE_PIZZA_TOPPING_  TOPPING_COUNT\n",
      "0                            pepperoni             45\n",
      "1                            pineapple             22\n",
      "2                                Other             20\n",
      "3                              sausage             19\n",
      "4                             mushroom             17\n",
      "5                        basil/spinach             12\n",
      "6                   none (just cheese)             11\n",
      "7                         green pepper             11\n",
      "8                       macaroni/pasta              2\n"
     ]
    },
    {
     "data": {
      "image/png": "[encoded data removed]",
      "text/plain": [
       "<Figure size 1000x500 with 1 Axes>"
      ]
     },
     "metadata": {},
     "output_type": "display_data"
    }
   ],
   "source": [
    "#q10\n",
    "#Read password from file\n",
    "with open(\"snowflake_password.txt\") as f:\n",
    "    password = f.read().strip()\n",
    "\n",
    "conn = snowflake.connector.connect(\n",
    "    user='awaria31',\n",
    "    password=password,\n",
    "    account='PXYRLSQ-SZ74217',\n",
    "    warehouse='P4_WAREHOUSE',\n",
    "    database='SURVEY_DATABASE',\n",
    "    schema='SURVEY_SCHEMA',\n",
    "    role='P4_ROLE'\n",
    ")\n",
    "\n",
    "query = \"\"\"\n",
    "SELECT \"WHAT_IS_YOUR_FAVORITE_PIZZA_TOPPING_\", COUNT(*) AS topping_count\n",
    "FROM SURVEY\n",
    "GROUP BY \"WHAT_IS_YOUR_FAVORITE_PIZZA_TOPPING_\"\n",
    "ORDER BY topping_count DESC\n",
    "\"\"\"\n",
    "\n",
    "df = pd.read_sql(query, conn)\n",
    "\n",
    "print(df)\n",
    "\n",
    "plt.figure(figsize=(10, 5))\n",
    "plt.bar(df[\"WHAT_IS_YOUR_FAVORITE_PIZZA_TOPPING_\"], df[\"TOPPING_COUNT\"], color='skyblue')\n",
    "plt.xlabel(\"Favorite Pizza Topping\")\n",
    "plt.ylabel(\"Number of Students\")\n",
    "plt.title(\"Most Popular Pizza Toppings Among Students\")\n",
    "plt.xticks(rotation=45)\n",
    "plt.tight_layout()\n",
    "plt.show()\n"
   ]
  },
  {
   "cell_type": "markdown",
   "id": "a1beb3b2-7454-4edc-ab0f-69d5c08d4dff",
   "metadata": {},
   "source": [
    "### What percentage of students consider themselves procrastinators versus not?"
   ]
  },
  {
   "cell_type": "code",
   "execution_count": 8,
   "id": "9fe161b9-a12a-4a4c-a94c-ccc391417f22",
   "metadata": {},
   "outputs": [
    {
     "name": "stderr",
     "output_type": "stream",
     "text": [
      "/tmp/ipykernel_3153306/1481174814.py:23: UserWarning: pandas only supports SQLAlchemy connectable (engine/connection) or database string URI or sqlite3 DBAPI2 connection. Other DBAPI2 objects are not tested. Please consider using SQLAlchemy.\n",
      "  df = pd.read_sql(query, conn)\n"
     ]
    },
    {
     "data": {
      "image/png": "[encoded data removed]",
      "text/plain": [
       "<Figure size 600x600 with 1 Axes>"
      ]
     },
     "metadata": {},
     "output_type": "display_data"
    }
   ],
   "source": [
    "#q11\n",
    "#Read Snowflake credentials\n",
    "with open(\"snowflake_password.txt\") as f:\n",
    "    password = f.read().strip()\n",
    "\n",
    "conn = snowflake.connector.connect(\n",
    "    user='awaria31',\n",
    "    password=password,\n",
    "    account='PXYRLSQ-SZ74217',\n",
    "    warehouse='P4_WAREHOUSE',\n",
    "    database='SURVEY_DATABASE',\n",
    "    schema='SURVEY_SCHEMA',\n",
    "    role='P4_ROLE'\n",
    ")\n",
    "\n",
    "query = \"\"\"\n",
    "SELECT DO_YOU_CONSIDER_YOURSELF_A_PROCRASTINATOR_ AS procrastinate_status,\n",
    "       COUNT(*) AS student_count\n",
    "FROM SURVEY\n",
    "GROUP BY DO_YOU_CONSIDER_YOURSELF_A_PROCRASTINATOR_\n",
    "\"\"\"\n",
    "\n",
    "df = pd.read_sql(query, conn)\n",
    "df\n",
    "\n",
    "plt.figure(figsize=(6, 6))\n",
    "plt.pie(df[\"STUDENT_COUNT\"], labels=df[\"PROCRASTINATE_STATUS\"], autopct=\"%1.1f%%\", colors=[\"#66b3ff\", \"#ff9999\"])\n",
    "plt.title(\"Percentage of Students Who Identify as Procrastinators\")\n",
    "plt.axis(\"equal\")\n",
    "plt.show()\n"
   ]
  },
  {
   "cell_type": "markdown",
   "id": "e36d7d07-02a3-40df-aad8-888f37d78e82",
   "metadata": {},
   "source": [
    "### What is the most common course selection factor for each primary major?"
   ]
  },
  {
   "cell_type": "code",
   "execution_count": 9,
   "id": "f5f7fee6-cc06-4355-b239-6ecca0e77481",
   "metadata": {},
   "outputs": [
    {
     "name": "stderr",
     "output_type": "stream",
     "text": [
      "/tmp/ipykernel_3153306/1207257096.py:21: UserWarning: pandas only supports SQLAlchemy connectable (engine/connection) or database string URI or sqlite3 DBAPI2 connection. Other DBAPI2 objects are not tested. Please consider using SQLAlchemy.\n",
      "  df = pd.read_sql(query, conn)\n"
     ]
    },
    {
     "data": {
      "text/html": [
       "<div>\n",
       "<style scoped>\n",
       "    .dataframe tbody tr th:only-of-type {\n",
       "        vertical-align: middle;\n",
       "    }\n",
       "\n",
       "    .dataframe tbody tr th {\n",
       "        vertical-align: top;\n",
       "    }\n",
       "\n",
       "    .dataframe thead th {\n",
       "        text-align: right;\n",
       "    }\n",
       "</style>\n",
       "<table border=\"1\" class=\"dataframe\">\n",
       "  <thead>\n",
       "    <tr style=\"text-align: right;\">\n",
       "      <th></th>\n",
       "      <th>FACTOR</th>\n",
       "      <th>COUNT</th>\n",
       "    </tr>\n",
       "  </thead>\n",
       "  <tbody>\n",
       "    <tr>\n",
       "      <th>0</th>\n",
       "      <td>Interest in the subject</td>\n",
       "      <td>82</td>\n",
       "    </tr>\n",
       "    <tr>\n",
       "      <th>1</th>\n",
       "      <td>Career relevance</td>\n",
       "      <td>41</td>\n",
       "    </tr>\n",
       "    <tr>\n",
       "      <th>2</th>\n",
       "      <td>Graduation requirements</td>\n",
       "      <td>24</td>\n",
       "    </tr>\n",
       "    <tr>\n",
       "      <th>3</th>\n",
       "      <td>Course workload</td>\n",
       "      <td>6</td>\n",
       "    </tr>\n",
       "    <tr>\n",
       "      <th>4</th>\n",
       "      <td>Instructor reputation</td>\n",
       "      <td>6</td>\n",
       "    </tr>\n",
       "  </tbody>\n",
       "</table>\n",
       "</div>"
      ],
      "text/plain": [
       "                    FACTOR  COUNT\n",
       "0  Interest in the subject     82\n",
       "1         Career relevance     41\n",
       "2  Graduation requirements     24\n",
       "3          Course workload      6\n",
       "4    Instructor reputation      6"
      ]
     },
     "execution_count": 9,
     "metadata": {},
     "output_type": "execute_result"
    }
   ],
   "source": [
    "#q12\n",
    "with open(\"snowflake_password.txt\") as f:\n",
    "    password = f.read().strip()\n",
    "\n",
    "conn = snowflake.connector.connect(\n",
    "    user='awaria31',\n",
    "    password=password,\n",
    "    account='PXYRLSQ-SZ74217',\n",
    "    warehouse='P4_WAREHOUSE',\n",
    "    database='SURVEY_DATABASE',\n",
    "    schema='SURVEY_SCHEMA',\n",
    "    role='P4_ROLE'\n",
    ")\n",
    "query = \"\"\"\n",
    "SELECT WHAT_FACTOR_INFLUENCES_YOUR_COURSE_SELECTION_THE_MOST_ AS factor,\n",
    "       COUNT(*) AS count\n",
    "FROM SURVEY\n",
    "GROUP BY WHAT_FACTOR_INFLUENCES_YOUR_COURSE_SELECTION_THE_MOST_\n",
    "ORDER BY count DESC\n",
    "\"\"\"\n",
    "df = pd.read_sql(query, conn)\n",
    "df"
   ]
  },
  {
   "cell_type": "code",
   "execution_count": 10,
   "id": "39800a48-d3b0-401b-aa4c-5cb58687612a",
   "metadata": {},
   "outputs": [
    {
     "data": {
      "image/png": "[encoded data removed]",
      "text/plain": [
       "<Figure size 1000x500 with 1 Axes>"
      ]
     },
     "metadata": {},
     "output_type": "display_data"
    }
   ],
   "source": [
    "# Plotting the result\n",
    "plt.figure(figsize=(10, 5))\n",
    "plt.bar(df[\"FACTOR\"], df[\"COUNT\"], color='orange')\n",
    "plt.xlabel(\"Influencing Factor\")\n",
    "plt.ylabel(\"Number of Students\")\n",
    "plt.title(\"Factors Influencing Course Selection\")\n",
    "plt.xticks(rotation=45)\n",
    "plt.tight_layout()\n",
    "plt.show()"
   ]
  },
  {
   "cell_type": "markdown",
   "id": "13ba3c2c-954d-4dd7-977b-acfb41dd5bee",
   "metadata": {},
   "source": [
    "### Do procrastinators tend to be night owls or early birds?"
   ]
  },
  {
   "cell_type": "code",
   "execution_count": 11,
   "id": "9c503e40-7785-488e-95af-b521a7917ec7",
   "metadata": {},
   "outputs": [
    {
     "name": "stderr",
     "output_type": "stream",
     "text": [
      "/tmp/ipykernel_3153306/809811074.py:26: UserWarning: pandas only supports SQLAlchemy connectable (engine/connection) or database string URI or sqlite3 DBAPI2 connection. Other DBAPI2 objects are not tested. Please consider using SQLAlchemy.\n",
      "  df = pd.read_sql(query, conn)\n"
     ]
    },
    {
     "data": {
      "text/html": [
       "<div>\n",
       "<style scoped>\n",
       "    .dataframe tbody tr th:only-of-type {\n",
       "        vertical-align: middle;\n",
       "    }\n",
       "\n",
       "    .dataframe tbody tr th {\n",
       "        vertical-align: top;\n",
       "    }\n",
       "\n",
       "    .dataframe thead th {\n",
       "        text-align: right;\n",
       "    }\n",
       "</style>\n",
       "<table border=\"1\" class=\"dataframe\">\n",
       "  <thead>\n",
       "    <tr style=\"text-align: right;\">\n",
       "      <th></th>\n",
       "      <th>IS_PROCRASTINATOR</th>\n",
       "      <th>SLEEP_TYPE</th>\n",
       "      <th>STUDENT_COUNT</th>\n",
       "    </tr>\n",
       "  </thead>\n",
       "  <tbody>\n",
       "    <tr>\n",
       "      <th>0</th>\n",
       "      <td>Yes</td>\n",
       "      <td>night owl</td>\n",
       "      <td>68</td>\n",
       "    </tr>\n",
       "    <tr>\n",
       "      <th>1</th>\n",
       "      <td>No</td>\n",
       "      <td>night owl</td>\n",
       "      <td>17</td>\n",
       "    </tr>\n",
       "    <tr>\n",
       "      <th>2</th>\n",
       "      <td>Maybe</td>\n",
       "      <td>night owl</td>\n",
       "      <td>16</td>\n",
       "    </tr>\n",
       "    <tr>\n",
       "      <th>3</th>\n",
       "      <td>No</td>\n",
       "      <td>early bird</td>\n",
       "      <td>15</td>\n",
       "    </tr>\n",
       "    <tr>\n",
       "      <th>4</th>\n",
       "      <td>Yes</td>\n",
       "      <td>no preference</td>\n",
       "      <td>13</td>\n",
       "    </tr>\n",
       "    <tr>\n",
       "      <th>5</th>\n",
       "      <td>Maybe</td>\n",
       "      <td>early bird</td>\n",
       "      <td>9</td>\n",
       "    </tr>\n",
       "    <tr>\n",
       "      <th>6</th>\n",
       "      <td>Yes</td>\n",
       "      <td>early bird</td>\n",
       "      <td>9</td>\n",
       "    </tr>\n",
       "    <tr>\n",
       "      <th>7</th>\n",
       "      <td>Maybe</td>\n",
       "      <td>no preference</td>\n",
       "      <td>7</td>\n",
       "    </tr>\n",
       "    <tr>\n",
       "      <th>8</th>\n",
       "      <td>No</td>\n",
       "      <td>no preference</td>\n",
       "      <td>5</td>\n",
       "    </tr>\n",
       "  </tbody>\n",
       "</table>\n",
       "</div>"
      ],
      "text/plain": [
       "  IS_PROCRASTINATOR     SLEEP_TYPE  STUDENT_COUNT\n",
       "0               Yes      night owl             68\n",
       "1                No      night owl             17\n",
       "2             Maybe      night owl             16\n",
       "3                No     early bird             15\n",
       "4               Yes  no preference             13\n",
       "5             Maybe     early bird              9\n",
       "6               Yes     early bird              9\n",
       "7             Maybe  no preference              7\n",
       "8                No  no preference              5"
      ]
     },
     "execution_count": 11,
     "metadata": {},
     "output_type": "execute_result"
    }
   ],
   "source": [
    "#q13\n",
    "with open(\"snowflake_password.txt\") as f:\n",
    "    password = f.read().strip()\n",
    "\n",
    "conn = snowflake.connector.connect(\n",
    "    user='awaria31',\n",
    "    password=password,\n",
    "    account='PXYRLSQ-SZ74217',\n",
    "    warehouse='P4_WAREHOUSE',\n",
    "    database='SURVEY_DATABASE',\n",
    "    schema='SURVEY_SCHEMA',\n",
    "    role='P4_ROLE'\n",
    ")\n",
    "\n",
    "query = \"\"\"\n",
    "SELECT \n",
    "    DO_YOU_CONSIDER_YOURSELF_A_PROCRASTINATOR_ AS is_procrastinator,\n",
    "    WOULD_YOU_DESCRIBE_YOURSELF_AS_AN_EARLY_BIRD_OR_A_NIGHT_OWL_ AS sleep_type,\n",
    "    COUNT(*) AS student_count\n",
    "FROM SURVEY\n",
    "GROUP BY \n",
    "    DO_YOU_CONSIDER_YOURSELF_A_PROCRASTINATOR_,\n",
    "    WOULD_YOU_DESCRIBE_YOURSELF_AS_AN_EARLY_BIRD_OR_A_NIGHT_OWL_\n",
    "ORDER BY student_count DESC\n",
    "\"\"\"\n",
    "df = pd.read_sql(query, conn)\n",
    "df"
   ]
  },
  {
   "cell_type": "code",
   "execution_count": 12,
   "id": "b14a26be-8d64-474f-9a93-92ea385007a2",
   "metadata": {},
   "outputs": [
    {
     "data": {
      "image/png": "[encoded data removed]",
      "text/plain": [
       "<Figure size 1000x600 with 1 Axes>"
      ]
     },
     "metadata": {},
     "output_type": "display_data"
    }
   ],
   "source": [
    "# Pivot the DataFrame\n",
    "pivot_df = df.pivot(index=\"SLEEP_TYPE\", columns=\"IS_PROCRASTINATOR\", values=\"STUDENT_COUNT\").fillna(0)\n",
    "\n",
    "# Plotting\n",
    "pivot_df.plot(kind=\"bar\", figsize=(10, 6))\n",
    "plt.title(\"Sleep Preference vs. Procrastination\")\n",
    "plt.xlabel(\"Sleep Preference\")\n",
    "plt.ylabel(\"Number of Students\")\n",
    "plt.xticks(rotation=0)\n",
    "plt.legend(title=\"Procrastinator\")\n",
    "plt.tight_layout()\n",
    "plt.show()\n"
   ]
  },
  {
   "cell_type": "markdown",
   "id": "5d071837-31c5-45db-babc-13d18feb7dfe",
   "metadata": {},
   "source": [
    "### What is the distribution of students' current academic standing (e.g., Freshman, Sophomore, etc.)?"
   ]
  },
  {
   "cell_type": "code",
   "execution_count": 13,
   "id": "ded6e83d-43f2-41d9-833a-cd55ad934f16",
   "metadata": {},
   "outputs": [
    {
     "name": "stderr",
     "output_type": "stream",
     "text": [
      "/tmp/ipykernel_3153306/104676236.py:20: UserWarning: pandas only supports SQLAlchemy connectable (engine/connection) or database string URI or sqlite3 DBAPI2 connection. Other DBAPI2 objects are not tested. Please consider using SQLAlchemy.\n",
      "  df = pd.read_sql(query, conn)\n"
     ]
    },
    {
     "data": {
      "text/html": [
       "<div>\n",
       "<style scoped>\n",
       "    .dataframe tbody tr th:only-of-type {\n",
       "        vertical-align: middle;\n",
       "    }\n",
       "\n",
       "    .dataframe tbody tr th {\n",
       "        vertical-align: top;\n",
       "    }\n",
       "\n",
       "    .dataframe thead th {\n",
       "        text-align: right;\n",
       "    }\n",
       "</style>\n",
       "<table border=\"1\" class=\"dataframe\">\n",
       "  <thead>\n",
       "    <tr style=\"text-align: right;\">\n",
       "      <th></th>\n",
       "      <th>CURRENT_STANDING</th>\n",
       "      <th>COUNT</th>\n",
       "    </tr>\n",
       "  </thead>\n",
       "  <tbody>\n",
       "    <tr>\n",
       "      <th>0</th>\n",
       "      <td>Senior</td>\n",
       "      <td>67</td>\n",
       "    </tr>\n",
       "    <tr>\n",
       "      <th>1</th>\n",
       "      <td>Junior</td>\n",
       "      <td>50</td>\n",
       "    </tr>\n",
       "    <tr>\n",
       "      <th>2</th>\n",
       "      <td>Sophomore</td>\n",
       "      <td>23</td>\n",
       "    </tr>\n",
       "    <tr>\n",
       "      <th>3</th>\n",
       "      <td>Grad</td>\n",
       "      <td>19</td>\n",
       "    </tr>\n",
       "  </tbody>\n",
       "</table>\n",
       "</div>"
      ],
      "text/plain": [
       "  CURRENT_STANDING  COUNT\n",
       "0           Senior     67\n",
       "1           Junior     50\n",
       "2        Sophomore     23\n",
       "3             Grad     19"
      ]
     },
     "execution_count": 13,
     "metadata": {},
     "output_type": "execute_result"
    }
   ],
   "source": [
    "#q14\n",
    "with open(\"snowflake_password.txt\") as f:\n",
    "    password = f.read().strip()\n",
    "\n",
    "conn = snowflake.connector.connect(\n",
    "    user='awaria31',\n",
    "    password=password,\n",
    "    account='PXYRLSQ-SZ74217',\n",
    "    warehouse='P4_WAREHOUSE',\n",
    "    database='SURVEY_DATABASE',\n",
    "    schema='SURVEY_SCHEMA',\n",
    "    role='P4_ROLE'\n",
    ")\n",
    "query = \"\"\"\n",
    "SELECT WHAT_IS_YOUR_CURRENT_STANDING AS current_standing, COUNT(*) AS count\n",
    "FROM SURVEY\n",
    "GROUP BY WHAT_IS_YOUR_CURRENT_STANDING\n",
    "ORDER BY count DESC\n",
    "\"\"\"\n",
    "df = pd.read_sql(query, conn)\n",
    "df\n"
   ]
  },
  {
   "cell_type": "code",
   "execution_count": 14,
   "id": "71efb0aa-ec9e-4af5-a0b3-ffe91d04e1df",
   "metadata": {},
   "outputs": [
    {
     "data": {
      "image/png": "[encoded data removed]",
      "text/plain": [
       "<Figure size 800x800 with 1 Axes>"
      ]
     },
     "metadata": {},
     "output_type": "display_data"
    }
   ],
   "source": [
    "import matplotlib.pyplot as plt\n",
    "\n",
    "plt.figure(figsize=(8, 8))\n",
    "plt.pie(df[\"COUNT\"], labels=df[\"CURRENT_STANDING\"], autopct='%1.1f%%', startangle=140)\n",
    "plt.title(\"Distribution of Students by Academic Standing\")\n",
    "plt.axis('equal')\n",
    "plt.show()"
   ]
  },
  {
   "cell_type": "markdown",
   "id": "50ffc73e-6276-4a08-8787-ae0f3428ff18",
   "metadata": {},
   "source": [
    "### What is the most common favorite hobby among students?"
   ]
  },
  {
   "cell_type": "code",
   "execution_count": 15,
   "id": "c99ddced-0f54-447b-a0c3-184f2cc4c684",
   "metadata": {},
   "outputs": [
    {
     "name": "stderr",
     "output_type": "stream",
     "text": [
      "/tmp/ipykernel_3153306/2037337770.py:20: UserWarning: pandas only supports SQLAlchemy connectable (engine/connection) or database string URI or sqlite3 DBAPI2 connection. Other DBAPI2 objects are not tested. Please consider using SQLAlchemy.\n",
      "  df = pd.read_sql(query, conn)\n"
     ]
    },
    {
     "data": {
      "text/html": [
       "<div>\n",
       "<style scoped>\n",
       "    .dataframe tbody tr th:only-of-type {\n",
       "        vertical-align: middle;\n",
       "    }\n",
       "\n",
       "    .dataframe tbody tr th {\n",
       "        vertical-align: top;\n",
       "    }\n",
       "\n",
       "    .dataframe thead th {\n",
       "        text-align: right;\n",
       "    }\n",
       "</style>\n",
       "<table border=\"1\" class=\"dataframe\">\n",
       "  <thead>\n",
       "    <tr style=\"text-align: right;\">\n",
       "      <th></th>\n",
       "      <th>HOBBY</th>\n",
       "      <th>COUNT</th>\n",
       "    </tr>\n",
       "  </thead>\n",
       "  <tbody>\n",
       "    <tr>\n",
       "      <th>0</th>\n",
       "      <td>Reading</td>\n",
       "      <td>6</td>\n",
       "    </tr>\n",
       "    <tr>\n",
       "      <th>1</th>\n",
       "      <td>Guitar</td>\n",
       "      <td>4</td>\n",
       "    </tr>\n",
       "    <tr>\n",
       "      <th>2</th>\n",
       "      <td>basketball</td>\n",
       "      <td>4</td>\n",
       "    </tr>\n",
       "    <tr>\n",
       "      <th>3</th>\n",
       "      <td>Drawing</td>\n",
       "      <td>3</td>\n",
       "    </tr>\n",
       "    <tr>\n",
       "      <th>4</th>\n",
       "      <td>Basketball</td>\n",
       "      <td>3</td>\n",
       "    </tr>\n",
       "    <tr>\n",
       "      <th>...</th>\n",
       "      <td>...</td>\n",
       "      <td>...</td>\n",
       "    </tr>\n",
       "    <tr>\n",
       "      <th>111</th>\n",
       "      <td>hiking</td>\n",
       "      <td>1</td>\n",
       "    </tr>\n",
       "    <tr>\n",
       "      <th>112</th>\n",
       "      <td>going to the shooting range</td>\n",
       "      <td>1</td>\n",
       "    </tr>\n",
       "    <tr>\n",
       "      <th>113</th>\n",
       "      <td>Working</td>\n",
       "      <td>1</td>\n",
       "    </tr>\n",
       "    <tr>\n",
       "      <th>114</th>\n",
       "      <td>cs 639</td>\n",
       "      <td>1</td>\n",
       "    </tr>\n",
       "    <tr>\n",
       "      <th>115</th>\n",
       "      <td>Watching TV/playing video games</td>\n",
       "      <td>1</td>\n",
       "    </tr>\n",
       "  </tbody>\n",
       "</table>\n",
       "<p>116 rows × 2 columns</p>\n",
       "</div>"
      ],
      "text/plain": [
       "                               HOBBY  COUNT\n",
       "0                            Reading      6\n",
       "1                             Guitar      4\n",
       "2                         basketball      4\n",
       "3                            Drawing      3\n",
       "4                         Basketball      3\n",
       "..                               ...    ...\n",
       "111                           hiking      1\n",
       "112      going to the shooting range      1\n",
       "113                          Working      1\n",
       "114                           cs 639      1\n",
       "115  Watching TV/playing video games      1\n",
       "\n",
       "[116 rows x 2 columns]"
      ]
     },
     "execution_count": 15,
     "metadata": {},
     "output_type": "execute_result"
    }
   ],
   "source": [
    "#q15\n",
    "with open(\"snowflake_password.txt\") as f:\n",
    "    password = f.read().strip()\n",
    "\n",
    "conn = snowflake.connector.connect(\n",
    "    user='awaria31',\n",
    "    password=password,\n",
    "    account='PXYRLSQ-SZ74217',\n",
    "    warehouse='P4_WAREHOUSE',\n",
    "    database='SURVEY_DATABASE',\n",
    "    schema='SURVEY_SCHEMA',\n",
    "    role='P4_ROLE'\n",
    ")\n",
    "query = \"\"\"\n",
    "SELECT WHAT_IS_YOUR_FAVORITE_HOBBY_ AS hobby, COUNT(*) AS count\n",
    "FROM SURVEY\n",
    "GROUP BY WHAT_IS_YOUR_FAVORITE_HOBBY_\n",
    "ORDER BY count DESC\n",
    "\"\"\"\n",
    "df = pd.read_sql(query, conn)\n",
    "df"
   ]
  },
  {
   "cell_type": "code",
   "execution_count": 16,
   "id": "7fe07651-172f-4b33-9e19-3a346fd28252",
   "metadata": {},
   "outputs": [
    {
     "data": {
      "image/png": "[encoded data removed]",
      "text/plain": [
       "<Figure size 1000x600 with 1 Axes>"
      ]
     },
     "metadata": {},
     "output_type": "display_data"
    }
   ],
   "source": [
    "import matplotlib.pyplot as plt\n",
    "\n",
    "#showing top 10 hobbies only\n",
    "top_n = 10\n",
    "df_top = df.sort_values(\"COUNT\", ascending=False).head(top_n)\n",
    "\n",
    "plt.figure(figsize=(10, 6))\n",
    "plt.bar(df_top[\"HOBBY\"], df_top[\"COUNT\"], color=\"teal\")\n",
    "plt.xlabel(\"Favorite Hobby\")\n",
    "plt.ylabel(\"Number of Students\")\n",
    "plt.title(f\"Top {top_n} Most Common Favorite Hobbies Among Students\")\n",
    "plt.xticks(rotation=30, ha=\"right\")\n",
    "plt.tight_layout()\n",
    "plt.show()\n"
   ]
  },
  {
   "cell_type": "markdown",
   "id": "de3f3447-9ff2-4087-8d72-3a76623fbec3",
   "metadata": {},
   "source": [
    "### What is the distribution of sleep preferences (\"early bird\" vs \"night owl\") by current academic standing?"
   ]
  },
  {
   "cell_type": "code",
   "execution_count": 17,
   "id": "06af2796-edc9-468b-a48d-21d289759c23",
   "metadata": {},
   "outputs": [
    {
     "name": "stderr",
     "output_type": "stream",
     "text": [
      "/tmp/ipykernel_3153306/1908194032.py:23: UserWarning: pandas only supports SQLAlchemy connectable (engine/connection) or database string URI or sqlite3 DBAPI2 connection. Other DBAPI2 objects are not tested. Please consider using SQLAlchemy.\n",
      "  df = pd.read_sql(query, conn)\n"
     ]
    },
    {
     "data": {
      "text/html": [
       "<div>\n",
       "<style scoped>\n",
       "    .dataframe tbody tr th:only-of-type {\n",
       "        vertical-align: middle;\n",
       "    }\n",
       "\n",
       "    .dataframe tbody tr th {\n",
       "        vertical-align: top;\n",
       "    }\n",
       "\n",
       "    .dataframe thead th {\n",
       "        text-align: right;\n",
       "    }\n",
       "</style>\n",
       "<table border=\"1\" class=\"dataframe\">\n",
       "  <thead>\n",
       "    <tr style=\"text-align: right;\">\n",
       "      <th></th>\n",
       "      <th>STANDING</th>\n",
       "      <th>SLEEP_TYPE</th>\n",
       "      <th>STUDENT_COUNT</th>\n",
       "    </tr>\n",
       "  </thead>\n",
       "  <tbody>\n",
       "    <tr>\n",
       "      <th>0</th>\n",
       "      <td>Grad</td>\n",
       "      <td>early bird</td>\n",
       "      <td>7</td>\n",
       "    </tr>\n",
       "    <tr>\n",
       "      <th>1</th>\n",
       "      <td>Grad</td>\n",
       "      <td>night owl</td>\n",
       "      <td>8</td>\n",
       "    </tr>\n",
       "    <tr>\n",
       "      <th>2</th>\n",
       "      <td>Grad</td>\n",
       "      <td>no preference</td>\n",
       "      <td>4</td>\n",
       "    </tr>\n",
       "    <tr>\n",
       "      <th>3</th>\n",
       "      <td>Junior</td>\n",
       "      <td>early bird</td>\n",
       "      <td>7</td>\n",
       "    </tr>\n",
       "    <tr>\n",
       "      <th>4</th>\n",
       "      <td>Junior</td>\n",
       "      <td>night owl</td>\n",
       "      <td>38</td>\n",
       "    </tr>\n",
       "    <tr>\n",
       "      <th>5</th>\n",
       "      <td>Junior</td>\n",
       "      <td>no preference</td>\n",
       "      <td>5</td>\n",
       "    </tr>\n",
       "    <tr>\n",
       "      <th>6</th>\n",
       "      <td>Senior</td>\n",
       "      <td>early bird</td>\n",
       "      <td>14</td>\n",
       "    </tr>\n",
       "    <tr>\n",
       "      <th>7</th>\n",
       "      <td>Senior</td>\n",
       "      <td>night owl</td>\n",
       "      <td>40</td>\n",
       "    </tr>\n",
       "    <tr>\n",
       "      <th>8</th>\n",
       "      <td>Senior</td>\n",
       "      <td>no preference</td>\n",
       "      <td>13</td>\n",
       "    </tr>\n",
       "    <tr>\n",
       "      <th>9</th>\n",
       "      <td>Sophomore</td>\n",
       "      <td>early bird</td>\n",
       "      <td>5</td>\n",
       "    </tr>\n",
       "    <tr>\n",
       "      <th>10</th>\n",
       "      <td>Sophomore</td>\n",
       "      <td>night owl</td>\n",
       "      <td>15</td>\n",
       "    </tr>\n",
       "    <tr>\n",
       "      <th>11</th>\n",
       "      <td>Sophomore</td>\n",
       "      <td>no preference</td>\n",
       "      <td>3</td>\n",
       "    </tr>\n",
       "  </tbody>\n",
       "</table>\n",
       "</div>"
      ],
      "text/plain": [
       "     STANDING     SLEEP_TYPE  STUDENT_COUNT\n",
       "0        Grad     early bird              7\n",
       "1        Grad      night owl              8\n",
       "2        Grad  no preference              4\n",
       "3      Junior     early bird              7\n",
       "4      Junior      night owl             38\n",
       "5      Junior  no preference              5\n",
       "6      Senior     early bird             14\n",
       "7      Senior      night owl             40\n",
       "8      Senior  no preference             13\n",
       "9   Sophomore     early bird              5\n",
       "10  Sophomore      night owl             15\n",
       "11  Sophomore  no preference              3"
      ]
     },
     "execution_count": 17,
     "metadata": {},
     "output_type": "execute_result"
    }
   ],
   "source": [
    "#q16\n",
    "with open(\"snowflake_password.txt\") as f:\n",
    "    password = f.read().strip()\n",
    "\n",
    "conn = snowflake.connector.connect(\n",
    "    user='awaria31',\n",
    "    password=password,\n",
    "    account='PXYRLSQ-SZ74217',\n",
    "    warehouse='P4_WAREHOUSE',\n",
    "    database='SURVEY_DATABASE',\n",
    "    schema='SURVEY_SCHEMA',\n",
    "    role='P4_ROLE'\n",
    ")\n",
    "query = \"\"\"\n",
    "SELECT\n",
    "    WHAT_IS_YOUR_CURRENT_STANDING AS standing,\n",
    "    WOULD_YOU_DESCRIBE_YOURSELF_AS_AN_EARLY_BIRD_OR_A_NIGHT_OWL_ AS sleep_type,\n",
    "    COUNT(*) AS student_count\n",
    "FROM SURVEY\n",
    "GROUP BY standing, sleep_type\n",
    "ORDER BY standing, sleep_type\n",
    "\"\"\"\n",
    "df = pd.read_sql(query, conn)\n",
    "df"
   ]
  },
  {
   "cell_type": "code",
   "execution_count": 18,
   "id": "88f7a65c-e0e8-4ae0-974e-aa17b13caf37",
   "metadata": {},
   "outputs": [
    {
     "data": {
      "image/png": "[encoded data removed]",
      "text/plain": [
       "<Figure size 1000x600 with 1 Axes>"
      ]
     },
     "metadata": {},
     "output_type": "display_data"
    }
   ],
   "source": [
    "pivot_df = df.pivot(index=\"STANDING\", columns=\"SLEEP_TYPE\", values=\"STUDENT_COUNT\").fillna(0)\n",
    "\n",
    "pivot_df.plot(kind=\"bar\", figsize=(10, 6))\n",
    "plt.title(\"Sleep Preference by Academic Standing\")\n",
    "plt.xlabel(\"Academic Standing\")\n",
    "plt.ylabel(\"Number of Students\")\n",
    "plt.xticks(rotation=0)\n",
    "plt.legend(title=\"Sleep Type\")\n",
    "plt.tight_layout()\n",
    "plt.show()"
   ]
  },
  {
   "cell_type": "markdown",
   "id": "1e97d1b4-e72b-4066-9f1e-552671ed608f",
   "metadata": {},
   "source": [
    "### Configure ~/.dbt/profiles.yml for STOCK_DB"
   ]
  },
  {
   "cell_type": "code",
   "execution_count": 19,
   "id": "029061db-5ecd-46c7-a81b-4b9cea7cf3e1",
   "metadata": {},
   "outputs": [
    {
     "name": "stdout",
     "output_type": "stream",
     "text": [
      "p4_data_pipeline:\n",
      "  target: dev\n",
      "  outputs:\n",
      "    dev:\n",
      "      type: snowflake\n",
      "      account: PXYRLSQ-SZ74217\n",
      "      user: AWARIA31\n",
      "      role: P4_ROLE\n",
      "      database: SURVEY_DATABASE\n",
      "      warehouse: COMPUTE_WH\n",
      "      schema: SURVEY_SCHEMA\n",
      "\n",
      "    stock_db:\n",
      "      type: snowflake\n",
      "      account: PXYRLSQ-SZ74217\n",
      "      user: AWARIA31\n",
      "      role: P4_ROLE\n",
      "      database: STOCK_TRACKING_US_STOCK_PRICES_BY_DAY\n",
      "      warehouse: COMPUTE_WH\n",
      "      schema: STOCK\n"
     ]
    }
   ],
   "source": [
    "!grep -v 'password' ~/.dbt/profiles.yml"
   ]
  },
  {
   "cell_type": "code",
   "execution_count": 20,
   "id": "1b045afc-02c5-4e95-b15c-08272f9cd9ef",
   "metadata": {},
   "outputs": [
    {
     "name": "stdout",
     "output_type": "stream",
     "text": [
      "/home/anyawaria/p4_data_pipeline\n"
     ]
    },
    {
     "name": "stderr",
     "output_type": "stream",
     "text": [
      "/home/anyawaria/p4/ENTER/envs/p4-env/lib/python3.10/site-packages/IPython/core/magics/osm.py:393: UserWarning: This is now an optional IPython functionality, using bookmarks requires you to install the `pickleshare` library.\n",
      "  bkms = self.shell.db.get('bookmarks', {})\n",
      "/home/anyawaria/p4/ENTER/envs/p4-env/lib/python3.10/site-packages/IPython/core/magics/osm.py:417: UserWarning: This is now an optional IPython functionality, setting dhist requires you to install the `pickleshare` library.\n",
      "  self.shell.db['dhist'] = compress_dhist(dhist)[-100:]\n"
     ]
    }
   ],
   "source": [
    "%cd ~/p4_data_pipeline\n"
   ]
  },
  {
   "cell_type": "code",
   "execution_count": 21,
   "id": "bf241d84-b3d5-4ecc-adec-d0c483739c10",
   "metadata": {},
   "outputs": [
    {
     "name": "stdout",
     "output_type": "stream",
     "text": [
      "sources.yml\t\t      staging_valid_stock_info.sql\n",
      "staging_valid_fx_info.sql     staging_valid_stock_tickers.sql\n",
      "staging_valid_fx_tickers.sql  transform_survey.sql\n"
     ]
    }
   ],
   "source": [
    "!ls models/staging/"
   ]
  },
  {
   "cell_type": "code",
   "execution_count": 22,
   "id": "57ae8c9e-11c1-4513-9818-5f64b2012f17",
   "metadata": {},
   "outputs": [
    {
     "name": "stdout",
     "output_type": "stream",
     "text": [
      "{{ config(materialized='view') }}\n",
      "\n",
      "SELECT\n",
      "    \"TIMESTAMP\",\n",
      "    \"EMAIL_ADDRESS\" AS email_address,\n",
      "    \"WHAT_IS_YOUR_AGE_\" AS age,\n",
      "    \"WHICH_BEST_DESCRIBES_YOUR_PRIMARY_MAJOR_OR_FIELD_OF_STUDY_IF_YOU_HAVE_MORE_THAN_ONE_MAJOR_PLEASE_SPECIFY_OTHER_MAJORS_AS_PART_OF_THE_NEXT_QUESTION_\" AS primary_major,\n",
      "    \"IF_YOU_HAVE_SECONDARY_MAJORS_PLEASE_LIST_THEM_HERE_SEPARATED_BY_A_COMMA_\" AS secondary_majors,\n",
      "    \"WHAT_FACTOR_INFLUENCES_YOUR_COURSE_SELECTION_THE_MOST_\" AS course_selection_factor,\n",
      "    \"WHAT_IS_THE_5_DIGIT_ZIP_CODE_OF_YOUR_RESIDENCE_WHILE_ATTENDING_CLASSES_IF_YOU_ARE_NOT_SURE_CHECK_HERE_HTTPS_TOOLS_USPS_COM_ZIP_CODE_LOOKUP_HTM_BYADDRESS_\" AS zip_code,\n",
      "    \"WHAT_IS_YOUR_FAVORITE_PIZZA_TOPPING_\" AS favorite_pizza_topping,\n",
      "    \"HAVE_YOU_EVER_IN_YOUR_LIFE_HAD_A_PET_\" AS had_pet,\n",
      "    \"ARE_YOU_A_RUNNER_CONSIDER_BOTH_RUNNING_ON_TREADMILL_AND_OUTDOORS_\" AS is_runner,\n",
      "    \"WOULD_YOU_DESCRIBE_YOURSELF_AS_AN_EARLY_BIRD_OR_A_NIGHT_OWL_\" AS sleep_preference,\n",
      "    \"DO_YOU_CONSIDER_YOURSELF_A_PROCRASTINATOR_\" AS is_procrastinator,\n",
      "    \"IF_YOU_HAD_AN_EXTRA_HOUR_IN_YOUR_DAY_HOW_WOULD_YOU_SPEND_IT_\" AS extra_hour_activity,\n",
      "    \"WHAT_IS_YOUR_FAVORITE_HOBBY_\" AS favorite_hobby,\n",
      "    \"WHAT_IS_YOUR_CURRENT_STANDING\" AS current_standing\n",
      "FROM {{ source('survey_schema', 'survey') }}\n"
     ]
    }
   ],
   "source": [
    "!cat models/staging/transform_survey.sql"
   ]
  },
  {
   "cell_type": "markdown",
   "id": "2690aea3-83cb-43d5-a406-0586244fe02c",
   "metadata": {},
   "source": [
    "### Update models/schema.yml file to include a second source for STOCK_DB tables (0.5 points)"
   ]
  },
  {
   "cell_type": "code",
   "execution_count": 23,
   "id": "23d44a85-e0be-4134-b54b-bc4f1785edac",
   "metadata": {},
   "outputs": [
    {
     "name": "stdout",
     "output_type": "stream",
     "text": [
      "version: 2\n",
      "\n",
      "sources:\n",
      "  - name: airbyte_csv_data\n",
      "    database: SURVEY_DATABASE\n",
      "    schema: SURVEY_SCHEMA\n",
      "    tables:\n",
      "      - name: TRADING_BOOKS\n",
      "      - name: WEIGHTS_TABLE\n",
      "\n",
      "  - name: stock_by_day\n",
      "    database: STOCK_TRACKING_US_STOCK_PRICES_BY_DAY\n",
      "    schema: STOCK\n",
      "    tables:\n",
      "      - name: US_STOCK_METRICS\n",
      "\n",
      "  - name: fx_by_day\n",
      "    database: FOREX_TRACKING_CURRENCY_EXCHANGE_RATES_BY_DAY\n",
      "    schema: STOCK\n",
      "    tables:\n",
      "      - name: FOREX_METRICS\n"
     ]
    }
   ],
   "source": [
    "!cat models/schema.yml"
   ]
  },
  {
   "cell_type": "markdown",
   "id": "2b026da3-7a00-493b-8292-2d70df8cc76e",
   "metadata": {},
   "source": [
    "### Create dbt_project.yml file in your dbt project directory --- p4_data_pipeline"
   ]
  },
  {
   "cell_type": "code",
   "execution_count": 24,
   "id": "4a697e7a-36d4-49bd-be0b-b5e86ad259c4",
   "metadata": {},
   "outputs": [
    {
     "name": "stdout",
     "output_type": "stream",
     "text": [
      "name: 'p4_data_pipeline'\n",
      "version: '1.0.0'\n",
      "\n",
      "profile: 'p4_data_pipeline'\n",
      "\n",
      "model-paths: [\"models\"]\n",
      "analysis-paths: [\"analyses\"]\n",
      "test-paths: [\"tests\"]\n",
      "seed-paths: [\"seeds\"]\n",
      "macro-paths: [\"macros\"]\n",
      "snapshot-paths: [\"snapshots\"]\n",
      "\n",
      "clean-targets:\n",
      "  - \"target\"\n",
      "  - \"dbt_packages\"\n",
      "\n",
      "models:\n",
      "  p4_data_pipeline:\n",
      "    staging:\n",
      "      +materialized: view\n",
      "      +warehouse: P4_WAREHOUSE\n",
      "    marts:\n",
      "      +materialized: table\n",
      "      +warehouse: P4_WAREHOUSE\n"
     ]
    }
   ],
   "source": [
    "!cat dbt_project.yml"
   ]
  },
  {
   "cell_type": "markdown",
   "id": "ddc0517e-2323-44a8-9e56-95aa5a23789c",
   "metadata": {},
   "source": [
    "### Creating staging tables for FX and Stock"
   ]
  },
  {
   "cell_type": "code",
   "execution_count": 25,
   "id": "2a40b165-8776-44e9-8a81-3e8f6311064a",
   "metadata": {},
   "outputs": [
    {
     "name": "stderr",
     "output_type": "stream",
     "text": [
      "/tmp/ipykernel_3153306/3611503144.py:32: UserWarning: pandas only supports SQLAlchemy connectable (engine/connection) or database string URI or sqlite3 DBAPI2 connection. Other DBAPI2 objects are not tested. Please consider using SQLAlchemy.\n",
      "  df = pd.read_sql(f'SELECT * FROM \"{view}\" LIMIT 10;', conn)\n"
     ]
    },
    {
     "data": {
      "text/html": [
       "<div>\n",
       "<style scoped>\n",
       "    .dataframe tbody tr th:only-of-type {\n",
       "        vertical-align: middle;\n",
       "    }\n",
       "\n",
       "    .dataframe tbody tr th {\n",
       "        vertical-align: top;\n",
       "    }\n",
       "\n",
       "    .dataframe thead th {\n",
       "        text-align: right;\n",
       "    }\n",
       "</style>\n",
       "<table border=\"1\" class=\"dataframe\">\n",
       "  <thead>\n",
       "    <tr style=\"text-align: right;\">\n",
       "      <th></th>\n",
       "      <th>CURRENCY_PAIR_NAME</th>\n",
       "    </tr>\n",
       "  </thead>\n",
       "  <tbody>\n",
       "    <tr>\n",
       "      <th>0</th>\n",
       "      <td>AED/BHD</td>\n",
       "    </tr>\n",
       "    <tr>\n",
       "      <th>1</th>\n",
       "      <td>ARS/CLP</td>\n",
       "    </tr>\n",
       "    <tr>\n",
       "      <th>2</th>\n",
       "      <td>AED/SEK</td>\n",
       "    </tr>\n",
       "    <tr>\n",
       "      <th>3</th>\n",
       "      <td>AUD/NPR</td>\n",
       "    </tr>\n",
       "    <tr>\n",
       "      <th>4</th>\n",
       "      <td>AUD/THB</td>\n",
       "    </tr>\n",
       "    <tr>\n",
       "      <th>5</th>\n",
       "      <td>AUD/KES</td>\n",
       "    </tr>\n",
       "    <tr>\n",
       "      <th>6</th>\n",
       "      <td>ARS/CNY</td>\n",
       "    </tr>\n",
       "    <tr>\n",
       "      <th>7</th>\n",
       "      <td>INR/DKK</td>\n",
       "    </tr>\n",
       "    <tr>\n",
       "      <th>8</th>\n",
       "      <td>NZD/JMD</td>\n",
       "    </tr>\n",
       "    <tr>\n",
       "      <th>9</th>\n",
       "      <td>INR/EGP</td>\n",
       "    </tr>\n",
       "  </tbody>\n",
       "</table>\n",
       "</div>"
      ],
      "text/plain": [
       "  CURRENCY_PAIR_NAME\n",
       "0            AED/BHD\n",
       "1            ARS/CLP\n",
       "2            AED/SEK\n",
       "3            AUD/NPR\n",
       "4            AUD/THB\n",
       "5            AUD/KES\n",
       "6            ARS/CNY\n",
       "7            INR/DKK\n",
       "8            NZD/JMD\n",
       "9            INR/EGP"
      ]
     },
     "metadata": {},
     "output_type": "display_data"
    },
    {
     "name": "stderr",
     "output_type": "stream",
     "text": [
      "/tmp/ipykernel_3153306/3611503144.py:32: UserWarning: pandas only supports SQLAlchemy connectable (engine/connection) or database string URI or sqlite3 DBAPI2 connection. Other DBAPI2 objects are not tested. Please consider using SQLAlchemy.\n",
      "  df = pd.read_sql(f'SELECT * FROM \"{view}\" LIMIT 10;', conn)\n"
     ]
    },
    {
     "data": {
      "text/html": [
       "<div>\n",
       "<style scoped>\n",
       "    .dataframe tbody tr th:only-of-type {\n",
       "        vertical-align: middle;\n",
       "    }\n",
       "\n",
       "    .dataframe tbody tr th {\n",
       "        vertical-align: top;\n",
       "    }\n",
       "\n",
       "    .dataframe thead th {\n",
       "        text-align: right;\n",
       "    }\n",
       "</style>\n",
       "<table border=\"1\" class=\"dataframe\">\n",
       "  <thead>\n",
       "    <tr style=\"text-align: right;\">\n",
       "      <th></th>\n",
       "      <th>TICKER</th>\n",
       "    </tr>\n",
       "  </thead>\n",
       "  <tbody>\n",
       "    <tr>\n",
       "      <th>0</th>\n",
       "      <td>AAPL</td>\n",
       "    </tr>\n",
       "    <tr>\n",
       "      <th>1</th>\n",
       "      <td>EUR/USD</td>\n",
       "    </tr>\n",
       "    <tr>\n",
       "      <th>2</th>\n",
       "      <td>MSFT</td>\n",
       "    </tr>\n",
       "    <tr>\n",
       "      <th>3</th>\n",
       "      <td>GBP/USD</td>\n",
       "    </tr>\n",
       "    <tr>\n",
       "      <th>4</th>\n",
       "      <td>GOOGL</td>\n",
       "    </tr>\n",
       "  </tbody>\n",
       "</table>\n",
       "</div>"
      ],
      "text/plain": [
       "    TICKER\n",
       "0     AAPL\n",
       "1  EUR/USD\n",
       "2     MSFT\n",
       "3  GBP/USD\n",
       "4    GOOGL"
      ]
     },
     "metadata": {},
     "output_type": "display_data"
    },
    {
     "name": "stderr",
     "output_type": "stream",
     "text": [
      "/tmp/ipykernel_3153306/3611503144.py:32: UserWarning: pandas only supports SQLAlchemy connectable (engine/connection) or database string URI or sqlite3 DBAPI2 connection. Other DBAPI2 objects are not tested. Please consider using SQLAlchemy.\n",
      "  df = pd.read_sql(f'SELECT * FROM \"{view}\" LIMIT 10;', conn)\n"
     ]
    },
    {
     "data": {
      "text/html": [
       "<div>\n",
       "<style scoped>\n",
       "    .dataframe tbody tr th:only-of-type {\n",
       "        vertical-align: middle;\n",
       "    }\n",
       "\n",
       "    .dataframe tbody tr th {\n",
       "        vertical-align: top;\n",
       "    }\n",
       "\n",
       "    .dataframe thead th {\n",
       "        text-align: right;\n",
       "    }\n",
       "</style>\n",
       "<table border=\"1\" class=\"dataframe\">\n",
       "  <thead>\n",
       "    <tr style=\"text-align: right;\">\n",
       "      <th></th>\n",
       "      <th>RUN_DATE</th>\n",
       "      <th>CURRENCY_PAIR_NAME</th>\n",
       "      <th>OPEN_PRICE</th>\n",
       "      <th>CLOSE_PRICE</th>\n",
       "      <th>HIGH_PRICE</th>\n",
       "      <th>LOW_PRICE</th>\n",
       "    </tr>\n",
       "  </thead>\n",
       "  <tbody>\n",
       "    <tr>\n",
       "      <th>0</th>\n",
       "      <td>2025-04-04</td>\n",
       "      <td>EUR/ISK</td>\n",
       "      <td>144.30000</td>\n",
       "      <td>144.89000</td>\n",
       "      <td>144.92000</td>\n",
       "      <td>144.10001</td>\n",
       "    </tr>\n",
       "    <tr>\n",
       "      <th>1</th>\n",
       "      <td>2025-04-04</td>\n",
       "      <td>PLN/JOD</td>\n",
       "      <td>0.18477</td>\n",
       "      <td>0.18166</td>\n",
       "      <td>0.18620</td>\n",
       "      <td>0.18134</td>\n",
       "    </tr>\n",
       "    <tr>\n",
       "      <th>2</th>\n",
       "      <td>2025-04-04</td>\n",
       "      <td>AUD/LBP</td>\n",
       "      <td>141784.51562</td>\n",
       "      <td>147821.65625</td>\n",
       "      <td>149107.21875</td>\n",
       "      <td>141426.31250</td>\n",
       "    </tr>\n",
       "    <tr>\n",
       "      <th>3</th>\n",
       "      <td>2025-04-04</td>\n",
       "      <td>ARS/BRL</td>\n",
       "      <td>0.00525</td>\n",
       "      <td>0.00544</td>\n",
       "      <td>0.00544</td>\n",
       "      <td>0.00524</td>\n",
       "    </tr>\n",
       "    <tr>\n",
       "      <th>4</th>\n",
       "      <td>2025-04-04</td>\n",
       "      <td>CZK/JPY</td>\n",
       "      <td>6.43339</td>\n",
       "      <td>6.36636</td>\n",
       "      <td>6.45936</td>\n",
       "      <td>6.31296</td>\n",
       "    </tr>\n",
       "    <tr>\n",
       "      <th>5</th>\n",
       "      <td>2025-04-04</td>\n",
       "      <td>TRY/BRL</td>\n",
       "      <td>0.14824</td>\n",
       "      <td>0.15376</td>\n",
       "      <td>0.15397</td>\n",
       "      <td>0.14784</td>\n",
       "    </tr>\n",
       "    <tr>\n",
       "      <th>6</th>\n",
       "      <td>2025-04-04</td>\n",
       "      <td>BRL/USD</td>\n",
       "      <td>0.17753</td>\n",
       "      <td>0.17139</td>\n",
       "      <td>0.17784</td>\n",
       "      <td>0.17108</td>\n",
       "    </tr>\n",
       "    <tr>\n",
       "      <th>7</th>\n",
       "      <td>2025-04-04</td>\n",
       "      <td>GBP/FJD</td>\n",
       "      <td>3.02978</td>\n",
       "      <td>3.01702</td>\n",
       "      <td>3.03321</td>\n",
       "      <td>3.01702</td>\n",
       "    </tr>\n",
       "    <tr>\n",
       "      <th>8</th>\n",
       "      <td>2025-04-04</td>\n",
       "      <td>EUR/TZS</td>\n",
       "      <td>2950.80005</td>\n",
       "      <td>2950.80005</td>\n",
       "      <td>2950.80005</td>\n",
       "      <td>2950.80005</td>\n",
       "    </tr>\n",
       "    <tr>\n",
       "      <th>9</th>\n",
       "      <td>2025-04-04</td>\n",
       "      <td>ZAR/NAD</td>\n",
       "      <td>0.99950</td>\n",
       "      <td>0.99415</td>\n",
       "      <td>1.00625</td>\n",
       "      <td>0.98526</td>\n",
       "    </tr>\n",
       "  </tbody>\n",
       "</table>\n",
       "</div>"
      ],
      "text/plain": [
       "     RUN_DATE CURRENCY_PAIR_NAME    OPEN_PRICE   CLOSE_PRICE    HIGH_PRICE  \\\n",
       "0  2025-04-04            EUR/ISK     144.30000     144.89000     144.92000   \n",
       "1  2025-04-04            PLN/JOD       0.18477       0.18166       0.18620   \n",
       "2  2025-04-04            AUD/LBP  141784.51562  147821.65625  149107.21875   \n",
       "3  2025-04-04            ARS/BRL       0.00525       0.00544       0.00544   \n",
       "4  2025-04-04            CZK/JPY       6.43339       6.36636       6.45936   \n",
       "5  2025-04-04            TRY/BRL       0.14824       0.15376       0.15397   \n",
       "6  2025-04-04            BRL/USD       0.17753       0.17139       0.17784   \n",
       "7  2025-04-04            GBP/FJD       3.02978       3.01702       3.03321   \n",
       "8  2025-04-04            EUR/TZS    2950.80005    2950.80005    2950.80005   \n",
       "9  2025-04-04            ZAR/NAD       0.99950       0.99415       1.00625   \n",
       "\n",
       "      LOW_PRICE  \n",
       "0     144.10001  \n",
       "1       0.18134  \n",
       "2  141426.31250  \n",
       "3       0.00524  \n",
       "4       6.31296  \n",
       "5       0.14784  \n",
       "6       0.17108  \n",
       "7       3.01702  \n",
       "8    2950.80005  \n",
       "9       0.98526  "
      ]
     },
     "metadata": {},
     "output_type": "display_data"
    },
    {
     "name": "stderr",
     "output_type": "stream",
     "text": [
      "/tmp/ipykernel_3153306/3611503144.py:32: UserWarning: pandas only supports SQLAlchemy connectable (engine/connection) or database string URI or sqlite3 DBAPI2 connection. Other DBAPI2 objects are not tested. Please consider using SQLAlchemy.\n",
      "  df = pd.read_sql(f'SELECT * FROM \"{view}\" LIMIT 10;', conn)\n"
     ]
    },
    {
     "data": {
      "text/html": [
       "<div>\n",
       "<style scoped>\n",
       "    .dataframe tbody tr th:only-of-type {\n",
       "        vertical-align: middle;\n",
       "    }\n",
       "\n",
       "    .dataframe tbody tr th {\n",
       "        vertical-align: top;\n",
       "    }\n",
       "\n",
       "    .dataframe thead th {\n",
       "        text-align: right;\n",
       "    }\n",
       "</style>\n",
       "<table border=\"1\" class=\"dataframe\">\n",
       "  <thead>\n",
       "    <tr style=\"text-align: right;\">\n",
       "      <th></th>\n",
       "      <th>TRADE_DATE</th>\n",
       "      <th>TICKER</th>\n",
       "      <th>OPEN_PRICE</th>\n",
       "      <th>CLOSE_PRICE</th>\n",
       "      <th>HIGH_PRICE</th>\n",
       "      <th>LOW_PRICE</th>\n",
       "    </tr>\n",
       "  </thead>\n",
       "  <tbody>\n",
       "    <tr>\n",
       "      <th>0</th>\n",
       "      <td>2024-03-01</td>\n",
       "      <td>AAPL</td>\n",
       "      <td>175.500</td>\n",
       "      <td>175.500</td>\n",
       "      <td>175.500</td>\n",
       "      <td>175.500</td>\n",
       "    </tr>\n",
       "    <tr>\n",
       "      <th>1</th>\n",
       "      <td>2024-03-01</td>\n",
       "      <td>AAPL</td>\n",
       "      <td>178.250</td>\n",
       "      <td>178.250</td>\n",
       "      <td>178.250</td>\n",
       "      <td>178.250</td>\n",
       "    </tr>\n",
       "    <tr>\n",
       "      <th>2</th>\n",
       "      <td>2024-03-01</td>\n",
       "      <td>EUR/USD</td>\n",
       "      <td>1.085</td>\n",
       "      <td>1.085</td>\n",
       "      <td>1.085</td>\n",
       "      <td>1.085</td>\n",
       "    </tr>\n",
       "    <tr>\n",
       "      <th>3</th>\n",
       "      <td>2024-03-01</td>\n",
       "      <td>EUR/USD</td>\n",
       "      <td>1.092</td>\n",
       "      <td>1.092</td>\n",
       "      <td>1.092</td>\n",
       "      <td>1.092</td>\n",
       "    </tr>\n",
       "    <tr>\n",
       "      <th>4</th>\n",
       "      <td>2024-03-01</td>\n",
       "      <td>MSFT</td>\n",
       "      <td>405.750</td>\n",
       "      <td>405.750</td>\n",
       "      <td>405.750</td>\n",
       "      <td>405.750</td>\n",
       "    </tr>\n",
       "    <tr>\n",
       "      <th>5</th>\n",
       "      <td>2024-03-01</td>\n",
       "      <td>MSFT</td>\n",
       "      <td>408.500</td>\n",
       "      <td>408.500</td>\n",
       "      <td>408.500</td>\n",
       "      <td>408.500</td>\n",
       "    </tr>\n",
       "    <tr>\n",
       "      <th>6</th>\n",
       "      <td>2024-03-01</td>\n",
       "      <td>GBP/USD</td>\n",
       "      <td>1.265</td>\n",
       "      <td>1.265</td>\n",
       "      <td>1.265</td>\n",
       "      <td>1.265</td>\n",
       "    </tr>\n",
       "    <tr>\n",
       "      <th>7</th>\n",
       "      <td>2024-03-01</td>\n",
       "      <td>GBP/USD</td>\n",
       "      <td>1.272</td>\n",
       "      <td>1.272</td>\n",
       "      <td>1.272</td>\n",
       "      <td>1.272</td>\n",
       "    </tr>\n",
       "    <tr>\n",
       "      <th>8</th>\n",
       "      <td>2024-03-01</td>\n",
       "      <td>GOOGL</td>\n",
       "      <td>141.250</td>\n",
       "      <td>141.250</td>\n",
       "      <td>141.250</td>\n",
       "      <td>141.250</td>\n",
       "    </tr>\n",
       "    <tr>\n",
       "      <th>9</th>\n",
       "      <td>2024-03-01</td>\n",
       "      <td>GOOGL</td>\n",
       "      <td>142.500</td>\n",
       "      <td>142.500</td>\n",
       "      <td>142.500</td>\n",
       "      <td>142.500</td>\n",
       "    </tr>\n",
       "  </tbody>\n",
       "</table>\n",
       "</div>"
      ],
      "text/plain": [
       "   TRADE_DATE   TICKER  OPEN_PRICE  CLOSE_PRICE  HIGH_PRICE  LOW_PRICE\n",
       "0  2024-03-01     AAPL     175.500      175.500     175.500    175.500\n",
       "1  2024-03-01     AAPL     178.250      178.250     178.250    178.250\n",
       "2  2024-03-01  EUR/USD       1.085        1.085       1.085      1.085\n",
       "3  2024-03-01  EUR/USD       1.092        1.092       1.092      1.092\n",
       "4  2024-03-01     MSFT     405.750      405.750     405.750    405.750\n",
       "5  2024-03-01     MSFT     408.500      408.500     408.500    408.500\n",
       "6  2024-03-01  GBP/USD       1.265        1.265       1.265      1.265\n",
       "7  2024-03-01  GBP/USD       1.272        1.272       1.272      1.272\n",
       "8  2024-03-01    GOOGL     141.250      141.250     141.250    141.250\n",
       "9  2024-03-01    GOOGL     142.500      142.500     142.500    142.500"
      ]
     },
     "metadata": {},
     "output_type": "display_data"
    }
   ],
   "source": [
    "import snowflake.connector\n",
    "import pandas as pd\n",
    "\n",
    "with open(\"../p4/snowflake_password.txt\") as f:\n",
    "    password = f.read().strip()\n",
    "\n",
    "conn = snowflake.connector.connect(\n",
    "    user='AWARIA31',\n",
    "    password=password,\n",
    "    account='PXYRLSQ-SZ74217',\n",
    "    role='P4_ROLE'\n",
    ")\n",
    "\n",
    "conn.cursor().execute(\"USE WAREHOUSE P4_WAREHOUSE;\")\n",
    "conn.cursor().execute(\"USE DATABASE SURVEY_DATABASE;\")\n",
    "conn.cursor().execute(\"USE SCHEMA SURVEY_SCHEMA;\")\n",
    "\n",
    "views = [\n",
    "    \"STAGING_VALID_FX_TICKERS\",\n",
    "    \"STAGING_VALID_STOCK_TICKERS\",\n",
    "    \"STAGING_VALID_FX_INFO\",\n",
    "    \"STAGING_VALID_STOCK_INFO\"\n",
    "]\n",
    "\n",
    "for view in views:\n",
    "    try:\n",
    "        #Preview only 10 rows to avoid crashing\n",
    "        df = pd.read_sql(f'SELECT * FROM \"{view}\" LIMIT 10;', conn)\n",
    "        display(df) \n",
    "    except Exception as e:\n",
    "        print(f\" Failed to preview {view} — {e}\")"
   ]
  },
  {
   "cell_type": "code",
   "execution_count": 27,
   "id": "ccfe16ce-005e-45c2-a73b-22c7e5d8a34d",
   "metadata": {},
   "outputs": [
    {
     "name": "stderr",
     "output_type": "stream",
     "text": [
      "/tmp/ipykernel_3153306/3096246565.py:2: UserWarning: pandas only supports SQLAlchemy connectable (engine/connection) or database string URI or sqlite3 DBAPI2 connection. Other DBAPI2 objects are not tested. Please consider using SQLAlchemy.\n",
      "  df = pd.read_sql(query, conn)\n"
     ]
    },
    {
     "data": {
      "text/html": [
       "<div>\n",
       "<style scoped>\n",
       "    .dataframe tbody tr th:only-of-type {\n",
       "        vertical-align: middle;\n",
       "    }\n",
       "\n",
       "    .dataframe tbody tr th {\n",
       "        vertical-align: top;\n",
       "    }\n",
       "\n",
       "    .dataframe thead th {\n",
       "        text-align: right;\n",
       "    }\n",
       "</style>\n",
       "<table border=\"1\" class=\"dataframe\">\n",
       "  <thead>\n",
       "    <tr style=\"text-align: right;\">\n",
       "      <th></th>\n",
       "      <th>RUN_DATE</th>\n",
       "      <th>CURRENCY_PAIR_NAME</th>\n",
       "      <th>OPEN_PRICE</th>\n",
       "      <th>CLOSE_PRICE</th>\n",
       "      <th>HIGH_PRICE</th>\n",
       "      <th>LOW_PRICE</th>\n",
       "    </tr>\n",
       "  </thead>\n",
       "  <tbody>\n",
       "    <tr>\n",
       "      <th>0</th>\n",
       "      <td>2025-04-04</td>\n",
       "      <td>EUR/ISK</td>\n",
       "      <td>144.30000</td>\n",
       "      <td>144.89000</td>\n",
       "      <td>144.92000</td>\n",
       "      <td>144.10001</td>\n",
       "    </tr>\n",
       "    <tr>\n",
       "      <th>1</th>\n",
       "      <td>2025-04-04</td>\n",
       "      <td>PLN/JOD</td>\n",
       "      <td>0.18477</td>\n",
       "      <td>0.18166</td>\n",
       "      <td>0.18620</td>\n",
       "      <td>0.18134</td>\n",
       "    </tr>\n",
       "    <tr>\n",
       "      <th>2</th>\n",
       "      <td>2025-04-04</td>\n",
       "      <td>AUD/LBP</td>\n",
       "      <td>141784.51562</td>\n",
       "      <td>147821.65625</td>\n",
       "      <td>149107.21875</td>\n",
       "      <td>141426.31250</td>\n",
       "    </tr>\n",
       "    <tr>\n",
       "      <th>3</th>\n",
       "      <td>2025-04-04</td>\n",
       "      <td>ARS/BRL</td>\n",
       "      <td>0.00525</td>\n",
       "      <td>0.00544</td>\n",
       "      <td>0.00544</td>\n",
       "      <td>0.00524</td>\n",
       "    </tr>\n",
       "    <tr>\n",
       "      <th>4</th>\n",
       "      <td>2025-04-04</td>\n",
       "      <td>CZK/JPY</td>\n",
       "      <td>6.43339</td>\n",
       "      <td>6.36636</td>\n",
       "      <td>6.45936</td>\n",
       "      <td>6.31296</td>\n",
       "    </tr>\n",
       "  </tbody>\n",
       "</table>\n",
       "</div>"
      ],
      "text/plain": [
       "     RUN_DATE CURRENCY_PAIR_NAME    OPEN_PRICE   CLOSE_PRICE    HIGH_PRICE  \\\n",
       "0  2025-04-04            EUR/ISK     144.30000     144.89000     144.92000   \n",
       "1  2025-04-04            PLN/JOD       0.18477       0.18166       0.18620   \n",
       "2  2025-04-04            AUD/LBP  141784.51562  147821.65625  149107.21875   \n",
       "3  2025-04-04            ARS/BRL       0.00525       0.00544       0.00544   \n",
       "4  2025-04-04            CZK/JPY       6.43339       6.36636       6.45936   \n",
       "\n",
       "      LOW_PRICE  \n",
       "0     144.10001  \n",
       "1       0.18134  \n",
       "2  141426.31250  \n",
       "3       0.00524  \n",
       "4       6.31296  "
      ]
     },
     "execution_count": 27,
     "metadata": {},
     "output_type": "execute_result"
    }
   ],
   "source": [
    "query = 'SELECT * FROM \"STAGING_VALID_FX_INFO\" LIMIT 10;'\n",
    "df = pd.read_sql(query, conn)\n",
    "df.head()\n"
   ]
  },
  {
   "cell_type": "code",
   "execution_count": 28,
   "id": "db0a8c59-ce09-4f74-8623-e96fe2149e35",
   "metadata": {},
   "outputs": [
    {
     "name": "stderr",
     "output_type": "stream",
     "text": [
      "/tmp/ipykernel_3153306/4174828599.py:2: UserWarning: pandas only supports SQLAlchemy connectable (engine/connection) or database string URI or sqlite3 DBAPI2 connection. Other DBAPI2 objects are not tested. Please consider using SQLAlchemy.\n",
      "  df = pd.read_sql(query, conn)\n"
     ]
    },
    {
     "data": {
      "text/html": [
       "<div>\n",
       "<style scoped>\n",
       "    .dataframe tbody tr th:only-of-type {\n",
       "        vertical-align: middle;\n",
       "    }\n",
       "\n",
       "    .dataframe tbody tr th {\n",
       "        vertical-align: top;\n",
       "    }\n",
       "\n",
       "    .dataframe thead th {\n",
       "        text-align: right;\n",
       "    }\n",
       "</style>\n",
       "<table border=\"1\" class=\"dataframe\">\n",
       "  <thead>\n",
       "    <tr style=\"text-align: right;\">\n",
       "      <th></th>\n",
       "      <th>TRADE_DATE</th>\n",
       "      <th>TICKER</th>\n",
       "      <th>OPEN_PRICE</th>\n",
       "      <th>CLOSE_PRICE</th>\n",
       "      <th>HIGH_PRICE</th>\n",
       "      <th>LOW_PRICE</th>\n",
       "    </tr>\n",
       "  </thead>\n",
       "  <tbody>\n",
       "    <tr>\n",
       "      <th>0</th>\n",
       "      <td>2024-03-01</td>\n",
       "      <td>AAPL</td>\n",
       "      <td>175.500</td>\n",
       "      <td>175.500</td>\n",
       "      <td>175.500</td>\n",
       "      <td>175.500</td>\n",
       "    </tr>\n",
       "    <tr>\n",
       "      <th>1</th>\n",
       "      <td>2024-03-01</td>\n",
       "      <td>AAPL</td>\n",
       "      <td>178.250</td>\n",
       "      <td>178.250</td>\n",
       "      <td>178.250</td>\n",
       "      <td>178.250</td>\n",
       "    </tr>\n",
       "    <tr>\n",
       "      <th>2</th>\n",
       "      <td>2024-03-01</td>\n",
       "      <td>EUR/USD</td>\n",
       "      <td>1.085</td>\n",
       "      <td>1.085</td>\n",
       "      <td>1.085</td>\n",
       "      <td>1.085</td>\n",
       "    </tr>\n",
       "    <tr>\n",
       "      <th>3</th>\n",
       "      <td>2024-03-01</td>\n",
       "      <td>EUR/USD</td>\n",
       "      <td>1.092</td>\n",
       "      <td>1.092</td>\n",
       "      <td>1.092</td>\n",
       "      <td>1.092</td>\n",
       "    </tr>\n",
       "    <tr>\n",
       "      <th>4</th>\n",
       "      <td>2024-03-01</td>\n",
       "      <td>MSFT</td>\n",
       "      <td>405.750</td>\n",
       "      <td>405.750</td>\n",
       "      <td>405.750</td>\n",
       "      <td>405.750</td>\n",
       "    </tr>\n",
       "  </tbody>\n",
       "</table>\n",
       "</div>"
      ],
      "text/plain": [
       "   TRADE_DATE   TICKER  OPEN_PRICE  CLOSE_PRICE  HIGH_PRICE  LOW_PRICE\n",
       "0  2024-03-01     AAPL     175.500      175.500     175.500    175.500\n",
       "1  2024-03-01     AAPL     178.250      178.250     178.250    178.250\n",
       "2  2024-03-01  EUR/USD       1.085        1.085       1.085      1.085\n",
       "3  2024-03-01  EUR/USD       1.092        1.092       1.092      1.092\n",
       "4  2024-03-01     MSFT     405.750      405.750     405.750    405.750"
      ]
     },
     "execution_count": 28,
     "metadata": {},
     "output_type": "execute_result"
    }
   ],
   "source": [
    "query = 'SELECT * FROM \"STAGING_VALID_STOCK_INFO\" LIMIT 10;'\n",
    "df = pd.read_sql(query, conn)\n",
    "df.head()\n"
   ]
  },
  {
   "cell_type": "code",
   "execution_count": 67,
   "id": "2f190e48-e166-4253-97dd-6bb7a97fa8d4",
   "metadata": {},
   "outputs": [
    {
     "name": "stderr",
     "output_type": "stream",
     "text": [
      "/tmp/ipykernel_3153306/3215328036.py:6: UserWarning: pandas only supports SQLAlchemy connectable (engine/connection) or database string URI or sqlite3 DBAPI2 connection. Other DBAPI2 objects are not tested. Please consider using SQLAlchemy.\n",
      "  df = pd.read_sql(query, conn)\n"
     ]
    },
    {
     "name": "stdout",
     "output_type": "stream",
     "text": [
      " Exported first 100 rows from STAGING_VALID_FX_INFO to /home/anyawaria/p4/files/staging_valid_fx_info.csv\n",
      " Exported first 100 rows from STAGING_VALID_STOCK_INFO to /home/anyawaria/p4/files/staging_valid_stock_info.csv\n"
     ]
    }
   ],
   "source": [
    "import pandas as pd\n",
    "\n",
    "def export_limited_view(view_name, output_path, row_limit=100):\n",
    "    query = f'SELECT * FROM \"{view_name}\" LIMIT {row_limit}' \n",
    "    try:\n",
    "        df = pd.read_sql(query, conn)\n",
    "        df.to_csv(output_path, index=False)\n",
    "        print(f\" Exported first {row_limit} rows from {view_name} to {output_path}\")\n",
    "    except Exception as e:\n",
    "        print(f\" Failed to export {view_name} — {e}\")\n",
    "\n",
    "export_limited_view(\"STAGING_VALID_FX_INFO\", \"/home/anyawaria/p4/files/staging_valid_fx_info.csv\")\n",
    "\n",
    "export_limited_view(\"STAGING_VALID_STOCK_INFO\", \"/home/anyawaria/p4/files/staging_valid_stock_info.csv\")\n"
   ]
  },
  {
   "cell_type": "code",
   "execution_count": 31,
   "id": "8d29978f-db5e-40c5-b5a8-fd1b99ce8c9b",
   "metadata": {},
   "outputs": [
    {
     "name": "stdout",
     "output_type": "stream",
     "text": [
      "{{ config(materialized='view') }}\n",
      "\n",
      "SELECT DISTINCT currency_pair_name\n",
      "FROM {{ source('fx_by_day', 'FOREX_METRICS') }}\n",
      "WHERE currency_pair_name IS NOT NULL\n",
      "{{ config(materialized='view') }}\n",
      "\n",
      "SELECT DISTINCT ticker\n",
      "FROM {{ source('airbyte_csv_data', 'TRADING_BOOKS') }}\n",
      "WHERE ticker IS NOT NULL\n",
      "{{ config(materialized='view') }}\n",
      "\n",
      "SELECT \n",
      "    f.run_date,\n",
      "    f.currency_pair_name,\n",
      "    f.open AS open_price,\n",
      "    f.close AS close_price,\n",
      "    f.high AS high_price,\n",
      "    f.low AS low_price\n",
      "FROM {{ source('fx_by_day', 'FOREX_METRICS') }} f\n",
      "JOIN {{ ref('staging_valid_fx_tickers') }} t\n",
      "  ON f.currency_pair_name = t.currency_pair_name\n",
      "{{ config(materialized='view') }}\n",
      "\n",
      "SELECT \n",
      "    s.trade_date,\n",
      "    s.ticker,\n",
      "    s.price AS open_price,   -- All prices are approximated from `price`\n",
      "    s.price AS close_price,\n",
      "    s.price AS high_price,\n",
      "    s.price AS low_price\n",
      "FROM {{ source('airbyte_csv_data', 'TRADING_BOOKS') }} s\n",
      "JOIN {{ ref('staging_valid_stock_tickers') }} t\n",
      "  ON s.ticker = t.ticker\n"
     ]
    }
   ],
   "source": [
    "!cat models/staging/staging_valid_fx_tickers.sql\n",
    "!cat models/staging/staging_valid_stock_tickers.sql\n",
    "!cat models/staging/staging_valid_fx_info.sql\n",
    "!cat models/staging/staging_valid_stock_info.sql"
   ]
  },
  {
   "cell_type": "markdown",
   "id": "e354b768-077d-44ad-a6c4-7bdbba6615ad",
   "metadata": {},
   "source": [
    "### Create staging table for trading pairs"
   ]
  },
  {
   "cell_type": "code",
   "execution_count": 46,
   "id": "b1df010e-8163-44bf-8dc3-3e5c9b1cc6ec",
   "metadata": {},
   "outputs": [
    {
     "name": "stderr",
     "output_type": "stream",
     "text": [
      "/tmp/ipykernel_3153306/150112377.py:4: UserWarning: pandas only supports SQLAlchemy connectable (engine/connection) or database string URI or sqlite3 DBAPI2 connection. Other DBAPI2 objects are not tested. Please consider using SQLAlchemy.\n",
      "  df = pd.read_sql(query, conn)\n"
     ]
    },
    {
     "name": "stdout",
     "output_type": "stream",
     "text": [
      "Exported staging_buy_sell_joint.csv\n"
     ]
    }
   ],
   "source": [
    "import pandas as pd\n",
    "\n",
    "query = 'SELECT * FROM \"STAGING_BUY_SELL_JOINT\" LIMIT 1000;'\n",
    "df = pd.read_sql(query, conn)\n",
    "df.to_csv(\"/home/anyawaria/p4/files/staging_buy_sell_joint.csv\", index=False)\n",
    "print(\"Exported staging_buy_sell_joint.csv\")\n"
   ]
  },
  {
   "cell_type": "code",
   "execution_count": 47,
   "id": "b0eca354-9a08-47c2-b63c-dda1f573d537",
   "metadata": {},
   "outputs": [
    {
     "name": "stdout",
     "output_type": "stream",
     "text": [
      "{{ config(materialized='view') }}\n",
      "\n",
      "WITH buys AS (\n",
      "    SELECT\n",
      "        trade_id AS trade_id_buy,\n",
      "        trade_date,\n",
      "        trader_name,\n",
      "        desk,\n",
      "        ticker,\n",
      "        quantity AS quantity_buy,\n",
      "        price AS price_buy\n",
      "    FROM {{ source('airbyte_csv_data', 'TRADING_BOOKS') }}\n",
      "    WHERE TRADE_TYPE = 'BUY'\n",
      "),\n",
      "\n",
      "sells AS (\n",
      "    SELECT\n",
      "        trade_date,\n",
      "        trader_name,\n",
      "        ticker,\n",
      "        quantity AS quantity_sell,\n",
      "        price AS price_sell\n",
      "    FROM {{ source('airbyte_csv_data', 'TRADING_BOOKS') }}\n",
      "    WHERE TRADE_TYPE = 'SELL'\n",
      ")\n",
      "\n",
      "SELECT\n",
      "    b.trade_id_buy,\n",
      "    b.trade_date,\n",
      "    b.trader_name,\n",
      "    b.desk,\n",
      "    b.ticker,\n",
      "    b.quantity_buy,\n",
      "    b.price_buy,\n",
      "    s.quantity_sell,\n",
      "    s.price_sell\n",
      "FROM buys b\n",
      "JOIN sells s\n",
      "  ON b.trader_name = s.trader_name\n",
      " AND b.trade_date = s.trade_date\n",
      " AND b.ticker = s.ticker\n",
      "ORDER BY b.trade_id_buy\n"
     ]
    }
   ],
   "source": [
    "!cat models/staging/staging_buy_sell_joint.sql"
   ]
  },
  {
   "cell_type": "markdown",
   "id": "3b2e7ec5-5fd3-4ae5-909e-178e826eda7b",
   "metadata": {},
   "source": [
    "### Create a fact Table for trading data"
   ]
  },
  {
   "cell_type": "code",
   "execution_count": 50,
   "id": "8f5f700a-618a-4b47-acdb-1a192ed28b0c",
   "metadata": {},
   "outputs": [
    {
     "name": "stdout",
     "output_type": "stream",
     "text": [
      "{{ config(materialized='table') }}\n",
      "\n",
      "SELECT\n",
      "    trade_id_buy AS trade_id,\n",
      "    quantity_buy * price_buy AS buy_money,\n",
      "    quantity_sell * price_sell AS sell_money,\n",
      "    (quantity_sell * price_sell) - (quantity_buy * price_buy) AS profit\n",
      "FROM {{ ref('staging_buy_sell_joint') }}\n",
      "ORDER BY trade_id_buy\n"
     ]
    }
   ],
   "source": [
    "!cat models/marts/fact_tab_trading.sql"
   ]
  },
  {
   "cell_type": "code",
   "execution_count": 51,
   "id": "22e467f3-cec3-4099-b6db-50f36ef7db72",
   "metadata": {},
   "outputs": [
    {
     "name": "stderr",
     "output_type": "stream",
     "text": [
      "/tmp/ipykernel_3153306/660646543.py:17: UserWarning: pandas only supports SQLAlchemy connectable (engine/connection) or database string URI or sqlite3 DBAPI2 connection. Other DBAPI2 objects are not tested. Please consider using SQLAlchemy.\n",
      "  df = pd.read_sql('SELECT * FROM \"FACT_TAB_TRADING\";', conn)\n"
     ]
    },
    {
     "name": "stdout",
     "output_type": "stream",
     "text": [
      "Exported fact_tab_trading.csv\n"
     ]
    }
   ],
   "source": [
    "import pandas as pd\n",
    "import snowflake.connector\n",
    "\n",
    "with open(\"../p4/snowflake_password.txt\") as f:\n",
    "    password = f.read().strip()\n",
    "\n",
    "conn = snowflake.connector.connect(\n",
    "    user='AWARIA31',\n",
    "    password=password,\n",
    "    account='PXYRLSQ-SZ74217',\n",
    "    role='P4_ROLE',\n",
    "    warehouse='P4_WAREHOUSE',\n",
    "    database='SURVEY_DATABASE',\n",
    "    schema='SURVEY_SCHEMA'\n",
    ")\n",
    "\n",
    "df = pd.read_sql('SELECT * FROM \"FACT_TAB_TRADING\";', conn)\n",
    "df.to_csv(\"/home/anyawaria/p4/files/fact_tab_trading.csv\", index=False)\n",
    "print(\"Exported fact_tab_trading.csv\")\n"
   ]
  },
  {
   "cell_type": "markdown",
   "id": "7da61fc5-91b7-4ab9-a741-4482f59f54d0",
   "metadata": {},
   "source": [
    "### Compute total profit by desk"
   ]
  },
  {
   "cell_type": "code",
   "execution_count": 57,
   "id": "43b2925d-3c6d-41be-9453-4ce845059ac0",
   "metadata": {},
   "outputs": [
    {
     "name": "stderr",
     "output_type": "stream",
     "text": [
      "/tmp/ipykernel_3153306/1874234970.py:13: UserWarning: pandas only supports SQLAlchemy connectable (engine/connection) or database string URI or sqlite3 DBAPI2 connection. Other DBAPI2 objects are not tested. Please consider using SQLAlchemy.\n",
      "  df = pd.read_sql(query, conn)\n"
     ]
    },
    {
     "data": {
      "text/html": [
       "<div>\n",
       "<style scoped>\n",
       "    .dataframe tbody tr th:only-of-type {\n",
       "        vertical-align: middle;\n",
       "    }\n",
       "\n",
       "    .dataframe tbody tr th {\n",
       "        vertical-align: top;\n",
       "    }\n",
       "\n",
       "    .dataframe thead th {\n",
       "        text-align: right;\n",
       "    }\n",
       "</style>\n",
       "<table border=\"1\" class=\"dataframe\">\n",
       "  <thead>\n",
       "    <tr style=\"text-align: right;\">\n",
       "      <th></th>\n",
       "      <th>DESK</th>\n",
       "      <th>TOTAL_PROFIT</th>\n",
       "    </tr>\n",
       "  </thead>\n",
       "  <tbody>\n",
       "    <tr>\n",
       "      <th>0</th>\n",
       "      <td>Equity Desk</td>\n",
       "      <td>2718.75</td>\n",
       "    </tr>\n",
       "    <tr>\n",
       "      <th>1</th>\n",
       "      <td>FX Desk</td>\n",
       "      <td>5000.00</td>\n",
       "    </tr>\n",
       "  </tbody>\n",
       "</table>\n",
       "</div>"
      ],
      "text/plain": [
       "          DESK  TOTAL_PROFIT\n",
       "0  Equity Desk       2718.75\n",
       "1      FX Desk       5000.00"
      ]
     },
     "execution_count": 57,
     "metadata": {},
     "output_type": "execute_result"
    }
   ],
   "source": [
    "query = \"\"\"\n",
    "SELECT\n",
    "    b.desk,\n",
    "    SUM(f.profit) AS total_profit\n",
    "FROM SURVEY_SCHEMA.TRADING_BOOKS b\n",
    "JOIN SURVEY_SCHEMA.FACT_TAB_TRADING f\n",
    "    ON b.trade_id = f.trade_id\n",
    "WHERE UPPER(b.trade_type) = 'BUY'\n",
    "GROUP BY b.desk\n",
    "ORDER BY b.desk;\n",
    "\"\"\"\n",
    "\n",
    "df = pd.read_sql(query, conn)\n",
    "df"
   ]
  },
  {
   "cell_type": "markdown",
   "id": "b1874939-9e2e-4100-89b2-c2d66bf8cf8c",
   "metadata": {},
   "source": [
    "### Compute profit rate by desk "
   ]
  },
  {
   "cell_type": "code",
   "execution_count": 58,
   "id": "93500afd-c1fe-49a5-9278-81114bbfbc31",
   "metadata": {},
   "outputs": [
    {
     "name": "stderr",
     "output_type": "stream",
     "text": [
      "/tmp/ipykernel_3153306/2706376438.py:12: UserWarning: pandas only supports SQLAlchemy connectable (engine/connection) or database string URI or sqlite3 DBAPI2 connection. Other DBAPI2 objects are not tested. Please consider using SQLAlchemy.\n",
      "  df = pd.read_sql(query, conn)\n"
     ]
    },
    {
     "data": {
      "text/html": [
       "<div>\n",
       "<style scoped>\n",
       "    .dataframe tbody tr th:only-of-type {\n",
       "        vertical-align: middle;\n",
       "    }\n",
       "\n",
       "    .dataframe tbody tr th {\n",
       "        vertical-align: top;\n",
       "    }\n",
       "\n",
       "    .dataframe thead th {\n",
       "        text-align: right;\n",
       "    }\n",
       "</style>\n",
       "<table border=\"1\" class=\"dataframe\">\n",
       "  <thead>\n",
       "    <tr style=\"text-align: right;\">\n",
       "      <th></th>\n",
       "      <th>DESK</th>\n",
       "      <th>PROFIT_RATE</th>\n",
       "    </tr>\n",
       "  </thead>\n",
       "  <tbody>\n",
       "    <tr>\n",
       "      <th>0</th>\n",
       "      <td>Equity Desk</td>\n",
       "      <td>0.012701</td>\n",
       "    </tr>\n",
       "    <tr>\n",
       "      <th>1</th>\n",
       "      <td>FX Desk</td>\n",
       "      <td>0.006342</td>\n",
       "    </tr>\n",
       "  </tbody>\n",
       "</table>\n",
       "</div>"
      ],
      "text/plain": [
       "          DESK  PROFIT_RATE\n",
       "0  Equity Desk     0.012701\n",
       "1      FX Desk     0.006342"
      ]
     },
     "execution_count": 58,
     "metadata": {},
     "output_type": "execute_result"
    }
   ],
   "source": [
    "query = \"\"\"\n",
    "SELECT\n",
    "  b.desk,\n",
    "  SUM(f.sell_money - f.buy_money) / NULLIF(SUM(f.buy_money), 0) AS profit_rate\n",
    "FROM SURVEY_SCHEMA.TRADING_BOOKS b\n",
    "JOIN SURVEY_SCHEMA.FACT_TAB_TRADING f\n",
    "  ON b.trade_id = f.trade_id\n",
    "WHERE UPPER(b.trade_type) = 'BUY'\n",
    "GROUP BY b.desk\n",
    "ORDER BY b.desk;\n",
    "\"\"\"\n",
    "df = pd.read_sql(query, conn)\n",
    "df"
   ]
  },
  {
   "cell_type": "code",
   "execution_count": null,
   "id": "c83c96bf-096d-44a7-ab55-360937965171",
   "metadata": {},
   "outputs": [],
   "source": []
  }
 ],
 "metadata": {
  "kernelspec": {
   "display_name": "Python (p4-env)",
   "language": "python",
   "name": "p4-env"
  },
  "language_info": {
   "codemirror_mode": {
    "name": "ipython",
    "version": 3
   },
   "file_extension": ".py",
   "mimetype": "text/x-python",
   "name": "python",
   "nbconvert_exporter": "python",
   "pygments_lexer": "ipython3",
   "version": "3.10.16"
  }
 },
 "nbformat": 4,
 "nbformat_minor": 5
}
